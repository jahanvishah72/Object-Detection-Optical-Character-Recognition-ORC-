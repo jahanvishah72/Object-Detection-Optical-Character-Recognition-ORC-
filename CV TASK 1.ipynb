{
 "cells": [
  {
   "cell_type": "markdown",
   "id": "8f06b69f",
   "metadata": {},
   "source": [
    "# GRIP - THE SPARKS FOUNDATION \n",
    " "
   ]
  },
  {
   "cell_type": "markdown",
   "id": "cd31ab23",
   "metadata": {},
   "source": [
    "# Task 1: Object Detection / Optical Character Recognition (ORC)"
   ]
  },
  {
   "cell_type": "markdown",
   "id": "ca1a6dd2",
   "metadata": {},
   "source": [
    "# Character detector which extracts printed or handwritten text from an image or video."
   ]
  },
  {
   "cell_type": "markdown",
   "id": "920de891",
   "metadata": {},
   "source": [
    "# _Importing required libraries_"
   ]
  },
  {
   "cell_type": "code",
   "execution_count": 1,
   "id": "77f37737",
   "metadata": {},
   "outputs": [],
   "source": [
    "import pytesseract\n",
    "import cv2\n",
    "import matplotlib.pyplot as plt"
   ]
  },
  {
   "cell_type": "markdown",
   "id": "75cd20df",
   "metadata": {},
   "source": [
    "# _Reading image_ "
   ]
  },
  {
   "cell_type": "code",
   "execution_count": 3,
   "id": "bb4351bc",
   "metadata": {},
   "outputs": [
    {
     "data": {
      "text/plain": [
       "<matplotlib.image.AxesImage at 0x23e7bfb1460>"
      ]
     },
     "execution_count": 3,
     "metadata": {},
     "output_type": "execute_result"
    },
    {
     "data": {
      "image/png": "[encoded data removed]",
      "text/plain": [
       "<Figure size 432x288 with 1 Axes>"
      ]
     },
     "metadata": {
      "needs_background": "light"
     },
     "output_type": "display_data"
    }
   ],
   "source": [
    "image = cv2.imread('cv task 1\\quote.png')\n",
    "plt.imshow(image)"
   ]
  },
  {
   "cell_type": "markdown",
   "id": "9c85cefd",
   "metadata": {},
   "source": [
    "#  _Extracting text from image_"
   ]
  },
  {
   "cell_type": "code",
   "execution_count": 12,
   "id": "522d5c58",
   "metadata": {},
   "outputs": [
    {
     "name": "stdout",
     "output_type": "stream",
     "text": [
      "Requirement already satisfied: pytesseract in c:\\users\\lenovo\\anaconda3\\lib\\site-packages (0.3.8)Note: you may need to restart the kernel to use updated packages.\n",
      "\n",
      "Requirement already satisfied: Pillow in c:\\users\\lenovo\\anaconda3\\lib\\site-packages (from pytesseract) (8.2.0)\n"
     ]
    }
   ],
   "source": [
    "pip install pytesseract"
   ]
  },
  {
   "cell_type": "code",
   "execution_count": 16,
   "id": "b6801661",
   "metadata": {},
   "outputs": [
    {
     "name": "stdout",
     "output_type": "stream",
     "text": [
      "DON'T\n",
      "STOP\n",
      "UNTIL\n",
      "YOURE\n",
      "PROUD\n",
      "\n",
      "\n"
     ]
    }
   ],
   "source": [
    "pytesseract.pytesseract.tesseract_cmd = r'C:\\Program Files (x86)\\Tesseract-OCR\\tesseract.exe'\n",
    "print(pytesseract.image_to_string(r'cv task 1\\quote.png'))"
   ]
  }
 ],
 "metadata": {
  "kernelspec": {
   "display_name": "Python 3",
   "language": "python",
   "name": "python3"
  },
  "language_info": {
   "codemirror_mode": {
    "name": "ipython",
    "version": 3
   },
   "file_extension": ".py",
   "mimetype": "text/x-python",
   "name": "python",
   "nbconvert_exporter": "python",
   "pygments_lexer": "ipython3",
   "version": "3.8.8"
  }
 },
 "nbformat": 4,
 "nbformat_minor": 5
}
